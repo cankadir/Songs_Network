{
 "metadata": {
  "language_info": {
   "codemirror_mode": {
    "name": "ipython",
    "version": 3
   },
   "file_extension": ".py",
   "mimetype": "text/x-python",
   "name": "python",
   "nbconvert_exporter": "python",
   "pygments_lexer": "ipython3",
   "version": "3.7.6-final"
  },
  "orig_nbformat": 2,
  "kernelspec": {
   "name": "python3",
   "display_name": "Python 3"
  }
 },
 "nbformat": 4,
 "nbformat_minor": 2,
 "cells": [
  {
   "cell_type": "code",
   "execution_count": 3,
   "metadata": {},
   "outputs": [],
   "source": [
    "import pandas as pd\n",
    "import requests \n",
    "import lxml.html\n",
    "import os\n"
   ]
  },
  {
   "cell_type": "code",
   "execution_count": 4,
   "metadata": {},
   "outputs": [
    {
     "output_type": "execute_result",
     "data": {
      "text/plain": [
       "                                           url  year      place\n",
       "0   https://eurovision.tv/event/rotterdam-2021  2021  rotterdam\n",
       "1   https://eurovision.tv/event/rotterdam-2020  2020  rotterdam\n",
       "2    https://eurovision.tv/event/tel-aviv-2019  2019   tel aviv\n",
       "3      https://eurovision.tv/event/lisbon-2018  2018     lisbon\n",
       "4        https://eurovision.tv/event/kyiv-2017  2017       kyiv\n",
       "..                                         ...   ...        ...\n",
       "61     https://eurovision.tv/event/london-1960  1960     london\n",
       "62     https://eurovision.tv/event/cannes-1959  1959     cannes\n",
       "63  https://eurovision.tv/event/hilversum-1958  1958  hilversum\n",
       "64  https://eurovision.tv/event/frankfurt-1957  1957  frankfurt\n",
       "65     https://eurovision.tv/event/lugano-1956  1956     lugano\n",
       "\n",
       "[66 rows x 3 columns]"
      ],
      "text/html": "<div>\n<style scoped>\n    .dataframe tbody tr th:only-of-type {\n        vertical-align: middle;\n    }\n\n    .dataframe tbody tr th {\n        vertical-align: top;\n    }\n\n    .dataframe thead th {\n        text-align: right;\n    }\n</style>\n<table border=\"1\" class=\"dataframe\">\n  <thead>\n    <tr style=\"text-align: right;\">\n      <th></th>\n      <th>url</th>\n      <th>year</th>\n      <th>place</th>\n    </tr>\n  </thead>\n  <tbody>\n    <tr>\n      <th>0</th>\n      <td>https://eurovision.tv/event/rotterdam-2021</td>\n      <td>2021</td>\n      <td>rotterdam</td>\n    </tr>\n    <tr>\n      <th>1</th>\n      <td>https://eurovision.tv/event/rotterdam-2020</td>\n      <td>2020</td>\n      <td>rotterdam</td>\n    </tr>\n    <tr>\n      <th>2</th>\n      <td>https://eurovision.tv/event/tel-aviv-2019</td>\n      <td>2019</td>\n      <td>tel aviv</td>\n    </tr>\n    <tr>\n      <th>3</th>\n      <td>https://eurovision.tv/event/lisbon-2018</td>\n      <td>2018</td>\n      <td>lisbon</td>\n    </tr>\n    <tr>\n      <th>4</th>\n      <td>https://eurovision.tv/event/kyiv-2017</td>\n      <td>2017</td>\n      <td>kyiv</td>\n    </tr>\n    <tr>\n      <th>...</th>\n      <td>...</td>\n      <td>...</td>\n      <td>...</td>\n    </tr>\n    <tr>\n      <th>61</th>\n      <td>https://eurovision.tv/event/london-1960</td>\n      <td>1960</td>\n      <td>london</td>\n    </tr>\n    <tr>\n      <th>62</th>\n      <td>https://eurovision.tv/event/cannes-1959</td>\n      <td>1959</td>\n      <td>cannes</td>\n    </tr>\n    <tr>\n      <th>63</th>\n      <td>https://eurovision.tv/event/hilversum-1958</td>\n      <td>1958</td>\n      <td>hilversum</td>\n    </tr>\n    <tr>\n      <th>64</th>\n      <td>https://eurovision.tv/event/frankfurt-1957</td>\n      <td>1957</td>\n      <td>frankfurt</td>\n    </tr>\n    <tr>\n      <th>65</th>\n      <td>https://eurovision.tv/event/lugano-1956</td>\n      <td>1956</td>\n      <td>lugano</td>\n    </tr>\n  </tbody>\n</table>\n<p>66 rows × 3 columns</p>\n</div>"
     },
     "metadata": {},
     "execution_count": 4
    }
   ],
   "source": [
    "# Get All Events\n",
    "# https://eurovision.tv/event/tel-aviv-2019/grand-final/results/albania\n",
    "\n",
    "from fake_useragent import UserAgent\n",
    "ua = UserAgent()\n",
    "\n",
    "url = 'https://eurovision.tv/events/'\n",
    "r = requests.get( url , headers = {'User-Agent': ua.random}  )\n",
    "html = lxml.html.fromstring( r.text )\n",
    "events = html.xpath('//div[@class=\"flex flex-wrap\"]/div/div/a')\n",
    "\n",
    "event_links = [i.get('href') for i in events]\n",
    "df_events = pd.DataFrame( event_links , columns= ['url'])\n",
    "\n",
    "df_events['year'] = [ int(r.split('-')[ len(r.split('-'))-1 ]) for i,r in df_events['url'].iteritems() ]\n",
    "df_events['place'] = [ r.split('/')[ len(r.split('/'))-1 ] for i,r in df_events['url'].iteritems() ]\n",
    "df_events['place'] = [ \" \".join(r.split('-')[ :len(r.split('-'))-1 ]) for i,r in df_events['place'].iteritems() ]\n",
    "\n",
    "df_events"
   ]
  },
  {
   "cell_type": "code",
   "execution_count": 47,
   "metadata": {
    "tags": []
   },
   "outputs": [],
   "source": [
    "import time\n",
    "import random\n",
    "#Extract Data\n",
    "\n",
    "def get_pts( df , year ): #Get given years votes per country\n",
    "\n",
    "    from fake_useragent import UserAgent\n",
    "    ua = UserAgent()\n",
    "\n",
    "    all_pts = pd.DataFrame()\n",
    "    #Format changes in 2004 - Istanbul\n",
    "\n",
    "    if year < 2004: url = df[ df['year']==year ]['url'].tolist()[0] + '/final/results/'\n",
    "    if year >= 2004: url = df[ df['year']==year ]['url'].tolist()[0] + '/grand-final/results/'\n",
    "    #Get all countries for results\n",
    "    r = requests.get( url , headers = {'User-Agent': ua.random}  )\n",
    "    html = lxml.html.fromstring( r.text )\n",
    "    countries = html.xpath('//option')\n",
    "    country_links = [i.get('value') for i in countries] \n",
    "\n",
    "    proxies = {\n",
    "        'http': 'http://135.181.68.88:3128',\n",
    "        'https': 'http://135.181.68.88:3128',\n",
    "    }\n",
    "\n",
    "    for c in country_links: #Get points received\n",
    "        if c:\n",
    "            try:\n",
    "                r = requests.get( c ,\n",
    "                    headers = {'User-Agent': ua.random} ,\n",
    "                    #proxies= proxies\n",
    "                    )\n",
    "                pts = pd.read_html( r.text )[0]\n",
    "                pts.columns = ['pts','pts_from']\n",
    "                pts['year'] = year\n",
    "                pts['points_to'] = c.split('/')[len(c.split('/'))-1] \n",
    "                all_pts = all_pts.append( pts )\n",
    "            except:\n",
    "                print( c )\n",
    "        time.sleep( random.random()*3 )\n",
    "    if len(all_pts) == 0: print( str(year), 'is empty' )\n",
    "    return all_pts\n"
   ]
  },
  {
   "cell_type": "code",
   "execution_count": 59,
   "metadata": {},
   "outputs": [
    {
     "output_type": "execute_result",
     "data": {
      "text/plain": [
       "    pts                         pts_from  year   points_to\n",
       "0    12                          Albania  2018       italy\n",
       "1    12                            Malta  2018       italy\n",
       "2    12                          Germany  2018       italy\n",
       "3    10                           France  2018       italy\n",
       "4    10                         Slovenia  2018       italy\n",
       "..  ...                              ...   ...         ...\n",
       "9     1                   United Kingdom  2018  san-marino\n",
       "0     6                            Malta  2018   australia\n",
       "1     2                          Denmark  2018   australia\n",
       "2     1                   United Kingdom  2018   australia\n",
       "3     9  points received from televoters  2018   australia\n",
       "\n",
       "[626 rows x 4 columns]"
      ],
      "text/html": "<div>\n<style scoped>\n    .dataframe tbody tr th:only-of-type {\n        vertical-align: middle;\n    }\n\n    .dataframe tbody tr th {\n        vertical-align: top;\n    }\n\n    .dataframe thead th {\n        text-align: right;\n    }\n</style>\n<table border=\"1\" class=\"dataframe\">\n  <thead>\n    <tr style=\"text-align: right;\">\n      <th></th>\n      <th>pts</th>\n      <th>pts_from</th>\n      <th>year</th>\n      <th>points_to</th>\n    </tr>\n  </thead>\n  <tbody>\n    <tr>\n      <th>0</th>\n      <td>12</td>\n      <td>Albania</td>\n      <td>2018</td>\n      <td>italy</td>\n    </tr>\n    <tr>\n      <th>1</th>\n      <td>12</td>\n      <td>Malta</td>\n      <td>2018</td>\n      <td>italy</td>\n    </tr>\n    <tr>\n      <th>2</th>\n      <td>12</td>\n      <td>Germany</td>\n      <td>2018</td>\n      <td>italy</td>\n    </tr>\n    <tr>\n      <th>3</th>\n      <td>10</td>\n      <td>France</td>\n      <td>2018</td>\n      <td>italy</td>\n    </tr>\n    <tr>\n      <th>4</th>\n      <td>10</td>\n      <td>Slovenia</td>\n      <td>2018</td>\n      <td>italy</td>\n    </tr>\n    <tr>\n      <th>...</th>\n      <td>...</td>\n      <td>...</td>\n      <td>...</td>\n      <td>...</td>\n    </tr>\n    <tr>\n      <th>9</th>\n      <td>1</td>\n      <td>United Kingdom</td>\n      <td>2018</td>\n      <td>san-marino</td>\n    </tr>\n    <tr>\n      <th>0</th>\n      <td>6</td>\n      <td>Malta</td>\n      <td>2018</td>\n      <td>australia</td>\n    </tr>\n    <tr>\n      <th>1</th>\n      <td>2</td>\n      <td>Denmark</td>\n      <td>2018</td>\n      <td>australia</td>\n    </tr>\n    <tr>\n      <th>2</th>\n      <td>1</td>\n      <td>United Kingdom</td>\n      <td>2018</td>\n      <td>australia</td>\n    </tr>\n    <tr>\n      <th>3</th>\n      <td>9</td>\n      <td>points received from televoters</td>\n      <td>2018</td>\n      <td>australia</td>\n    </tr>\n  </tbody>\n</table>\n<p>626 rows × 4 columns</p>\n</div>"
     },
     "metadata": {},
     "execution_count": 59
    }
   ],
   "source": [
    "year = 2018\n",
    "folder = r'C:\\Users\\csucuogl\\Documents\\GitHub\\IdeasTesting\\Songs\\data'\n",
    "temp = get_pts( df_events , year )\n",
    "\n",
    "temp.to_csv( os.path.join(folder,'results_'+str(year)+'.csv' ) )\n",
    "\n",
    "temp"
   ]
  },
  {
   "cell_type": "code",
   "execution_count": null,
   "metadata": {},
   "outputs": [],
   "source": []
  }
 ]
}